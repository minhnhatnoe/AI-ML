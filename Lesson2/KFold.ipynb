{
 "cells": [
  {
   "cell_type": "markdown",
   "metadata": {},
   "source": [
    "# 1. Data"
   ]
  },
  {
   "cell_type": "code",
   "execution_count": 11,
   "metadata": {},
   "outputs": [],
   "source": [
    "from keras.datasets import mnist\n",
    "(data_x, data_y), (test_x, test_y) = mnist.load_data()\n"
   ]
  },
  {
   "cell_type": "code",
   "execution_count": 12,
   "metadata": {},
   "outputs": [
    {
     "data": {
      "image/png": "[encoded data removed]",
      "text/plain": [
       "<Figure size 648x648 with 9 Axes>"
      ]
     },
     "metadata": {
      "needs_background": "light"
     },
     "output_type": "display_data"
    }
   ],
   "source": [
    "from matplotlib import pyplot as plt\n",
    "fig, axs = plt.subplots(3, 3, figsize=(9, 9))\n",
    "for i in range(9):\n",
    "    row = i//3\n",
    "    column = i % 3\n",
    "    axs[row][column].imshow(data_x[i], cmap=\"gray\")\n",
    "    axs[row][column].set_title(data_y[i])\n",
    "plt.show()\n"
   ]
  },
  {
   "cell_type": "markdown",
   "metadata": {},
   "source": [
    "# 2. Preprocess data"
   ]
  },
  {
   "cell_type": "code",
   "execution_count": 13,
   "metadata": {},
   "outputs": [],
   "source": [
    "data_x = data_x/255.0\n",
    "test_x = test_x/255.0\n"
   ]
  },
  {
   "cell_type": "code",
   "execution_count": 14,
   "metadata": {},
   "outputs": [],
   "source": [
    "from sklearn.model_selection import KFold\n",
    "# Split the dataset. Random_state is seed\n",
    "# train_x, val_x, train_y, val_y = train_test_split(\n",
    "#     train_x, train_y, test_size=0.2, random_state=42)\n",
    "\n",
    "kf = KFold(n_splits=10, shuffle=True, random_state=42)"
   ]
  },
  {
   "cell_type": "code",
   "execution_count": 15,
   "metadata": {},
   "outputs": [],
   "source": [
    "import torch\n",
    "class Data(torch.utils.data.Dataset):\n",
    "    def __init__(self, data, label):\n",
    "        self.x = data\n",
    "        self.y = label\n",
    "\n",
    "    def __len__(self):\n",
    "        return self.y.shape[0]\n",
    "\n",
    "    def __getitem__(self, idx):\n",
    "        return self.x[idx], self.y[idx]"
   ]
  },
  {
   "cell_type": "code",
   "execution_count": 16,
   "metadata": {},
   "outputs": [],
   "source": [
    "# train, val = Data(train_x, train_y), Data(val_x, val_y)\n",
    "# train_dataloader = torch.utils.data.DataLoader(train, batch_size=32)\n",
    "# val_dataloader = torch.utils.data.DataLoader(val, batch_size=32)"
   ]
  },
  {
   "cell_type": "markdown",
   "metadata": {},
   "source": [
    "# 3. Build model"
   ]
  },
  {
   "cell_type": "code",
   "execution_count": 17,
   "metadata": {},
   "outputs": [],
   "source": [
    "from torch import nn\n",
    "\n",
    "\n",
    "class SimpleModel(nn.Module):\n",
    "    def __init__(self):\n",
    "        super(SimpleModel, self).__init__()\n",
    "        self.linear1 = nn.Linear(28*28, 32)\n",
    "        # 10 is out_feature, corresponds to digits 0->9\n",
    "        # 28 is size of dataset\n",
    "        self.relu = nn.ReLU()\n",
    "        self.linear2 = nn.Linear(32, 10)\n",
    "\n",
    "    def forward(self, x):\n",
    "        x = torch.flatten(x, 1)  # Stretch array of 28*28 to 1*724\n",
    "        x = self.linear1(x)\n",
    "        x = self.relu(x)\n",
    "        x = self.linear2(x)\n",
    "        return x\n"
   ]
  },
  {
   "cell_type": "markdown",
   "metadata": {},
   "source": [
    "# 4. Train"
   ]
  },
  {
   "cell_type": "code",
   "execution_count": 18,
   "metadata": {},
   "outputs": [],
   "source": [
    "model = SimpleModel()\n",
    "\n",
    "use_cuda = torch.cuda.is_available()\n",
    "device = torch.device(\"cuda\" if use_cuda else \"cpu\")\n",
    "\n",
    "criterion = nn.CrossEntropyLoss()\n",
    "optimizer = torch.optim.Adam(model.parameters())\n",
    "\n",
    "model = model.to(device)\n",
    "criterion = criterion.to(device)\n"
   ]
  },
  {
   "cell_type": "code",
   "execution_count": 19,
   "metadata": {},
   "outputs": [
    {
     "name": "stderr",
     "output_type": "stream",
     "text": [
      "100%|██████████| 1688/1688 [00:03<00:00, 532.91it/s]\n",
      "100%|██████████| 188/188 [00:00<00:00, 1027.30it/s]\n"
     ]
    },
    {
     "name": "stdout",
     "output_type": "stream",
     "text": [
      "Epochs: 1 \n",
      "        | Train Loss: 0.013\n",
      "        | Train Accuracy: 0.888\n",
      "        | Val Loss: 0.008\n",
      "        | Val Accuracy: 0.926\n",
      "        | Train idx: [    0     1     2 ... 59996 59997 59998]\n",
      "        | Val idx: [    4     6     7 ... 59981 59989 59999]\n",
      "Save model because val loss improve loss 0.008\n"
     ]
    },
    {
     "name": "stderr",
     "output_type": "stream",
     "text": [
      "100%|██████████| 1688/1688 [00:03<00:00, 508.33it/s]\n",
      "100%|██████████| 188/188 [00:00<00:00, 1038.68it/s]\n"
     ]
    },
    {
     "name": "stdout",
     "output_type": "stream",
     "text": [
      "Epochs: 2 \n",
      "        | Train Loss: 0.007\n",
      "        | Train Accuracy: 0.934\n",
      "        | Val Loss: 0.006\n",
      "        | Val Accuracy: 0.940\n",
      "        | Train idx: [    0     1     2 ... 59997 59998 59999]\n",
      "        | Val idx: [   32    41    71 ... 59980 59983 59984]\n",
      "Save model because val loss improve loss 0.006\n"
     ]
    },
    {
     "name": "stderr",
     "output_type": "stream",
     "text": [
      "100%|██████████| 1688/1688 [00:03<00:00, 529.47it/s]\n",
      "100%|██████████| 188/188 [00:00<00:00, 924.43it/s]\n"
     ]
    },
    {
     "name": "stdout",
     "output_type": "stream",
     "text": [
      "Epochs: 3 \n",
      "        | Train Loss: 0.006\n",
      "        | Train Accuracy: 0.948\n",
      "        | Val Loss: 0.006\n",
      "        | Val Accuracy: 0.949\n",
      "        | Train idx: [    0     1     2 ... 59997 59998 59999]\n",
      "        | Val idx: [   11    30    31 ... 59972 59973 59992]\n",
      "Save model because val loss improve loss 0.006\n"
     ]
    },
    {
     "name": "stderr",
     "output_type": "stream",
     "text": [
      "100%|██████████| 1688/1688 [00:03<00:00, 504.71it/s]\n",
      "100%|██████████| 188/188 [00:00<00:00, 1050.31it/s]\n"
     ]
    },
    {
     "name": "stdout",
     "output_type": "stream",
     "text": [
      "Epochs: 4 \n",
      "        | Train Loss: 0.005\n",
      "        | Train Accuracy: 0.956\n",
      "        | Val Loss: 0.004\n",
      "        | Val Accuracy: 0.960\n",
      "        | Train idx: [    2     3     4 ... 59997 59998 59999]\n",
      "        | Val idx: [    0     1    13 ... 59985 59987 59995]\n",
      "Save model because val loss improve loss 0.004\n"
     ]
    },
    {
     "name": "stderr",
     "output_type": "stream",
     "text": [
      "100%|██████████| 1688/1688 [00:03<00:00, 515.85it/s]\n",
      "100%|██████████| 188/188 [00:00<00:00, 1062.13it/s]\n"
     ]
    },
    {
     "name": "stdout",
     "output_type": "stream",
     "text": [
      "Epochs: 5 \n",
      "        | Train Loss: 0.004\n",
      "        | Train Accuracy: 0.962\n",
      "        | Val Loss: 0.004\n",
      "        | Val Accuracy: 0.957\n",
      "        | Train idx: [    0     1     2 ... 59997 59998 59999]\n",
      "        | Val idx: [   25    46    47 ... 59978 59986 59990]\n"
     ]
    },
    {
     "name": "stderr",
     "output_type": "stream",
     "text": [
      "100%|██████████| 1688/1688 [00:03<00:00, 516.96it/s]\n",
      "100%|██████████| 188/188 [00:00<00:00, 1038.59it/s]\n"
     ]
    },
    {
     "name": "stdout",
     "output_type": "stream",
     "text": [
      "Epochs: 6 \n",
      "        | Train Loss: 0.004\n",
      "        | Train Accuracy: 0.965\n",
      "        | Val Loss: 0.003\n",
      "        | Val Accuracy: 0.968\n",
      "        | Train idx: [    0     1     2 ... 59995 59996 59999]\n",
      "        | Val idx: [    3     8    14 ... 59988 59997 59998]\n",
      "Save model because val loss improve loss 0.003\n"
     ]
    },
    {
     "name": "stderr",
     "output_type": "stream",
     "text": [
      "100%|██████████| 1688/1688 [00:03<00:00, 514.95it/s]\n",
      "100%|██████████| 188/188 [00:00<00:00, 1050.31it/s]\n"
     ]
    },
    {
     "name": "stdout",
     "output_type": "stream",
     "text": [
      "Epochs: 7 \n",
      "        | Train Loss: 0.003\n",
      "        | Train Accuracy: 0.969\n",
      "        | Val Loss: 0.003\n",
      "        | Val Accuracy: 0.969\n",
      "        | Train idx: [    0     1     2 ... 59997 59998 59999]\n",
      "        | Val idx: [   18    19    24 ... 59965 59969 59974]\n",
      "Save model because val loss improve loss 0.003\n"
     ]
    },
    {
     "name": "stderr",
     "output_type": "stream",
     "text": [
      "100%|██████████| 1688/1688 [00:03<00:00, 517.26it/s]\n",
      "100%|██████████| 188/188 [00:00<00:00, 1092.86it/s]\n"
     ]
    },
    {
     "name": "stdout",
     "output_type": "stream",
     "text": [
      "Epochs: 8 \n",
      "        | Train Loss: 0.003\n",
      "        | Train Accuracy: 0.971\n",
      "        | Val Loss: 0.003\n",
      "        | Val Accuracy: 0.969\n",
      "        | Train idx: [    0     1     2 ... 59997 59998 59999]\n",
      "        | Val idx: [    5    15    20 ... 59991 59993 59994]\n",
      "Save model because val loss improve loss 0.003\n"
     ]
    },
    {
     "name": "stderr",
     "output_type": "stream",
     "text": [
      "100%|██████████| 1688/1688 [00:03<00:00, 514.11it/s]\n",
      "100%|██████████| 188/188 [00:00<00:00, 1074.29it/s]\n"
     ]
    },
    {
     "name": "stdout",
     "output_type": "stream",
     "text": [
      "Epochs: 9 \n",
      "        | Train Loss: 0.003\n",
      "        | Train Accuracy: 0.973\n",
      "        | Val Loss: 0.003\n",
      "        | Val Accuracy: 0.968\n",
      "        | Train idx: [    0     1     3 ... 59997 59998 59999]\n",
      "        | Val idx: [    2    10    12 ... 59954 59963 59982]\n"
     ]
    },
    {
     "name": "stderr",
     "output_type": "stream",
     "text": [
      "100%|██████████| 1688/1688 [00:03<00:00, 519.42it/s]\n",
      "100%|██████████| 188/188 [00:00<00:00, 1044.45it/s]"
     ]
    },
    {
     "name": "stdout",
     "output_type": "stream",
     "text": [
      "Epochs: 10 \n",
      "        | Train Loss: 0.003\n",
      "        | Train Accuracy: 0.976\n",
      "        | Val Loss: 0.002\n",
      "        | Val Accuracy: 0.973\n",
      "        | Train idx: [    0     1     2 ... 59997 59998 59999]\n",
      "        | Val idx: [    9    55    60 ... 59975 59976 59996]\n",
      "Save model because val loss improve loss 0.002\n"
     ]
    },
    {
     "name": "stderr",
     "output_type": "stream",
     "text": [
      "\n"
     ]
    }
   ],
   "source": [
    "from tqdm import tqdm\n",
    "import numpy as np\n",
    "min_val_loss = 100000000000\n",
    "# for epoch in range(10):\n",
    "for fold, (train_idx, val_idx) in enumerate(kf.split(np.arange(len(data_x)))):\n",
    "    train = Data(data_x[train_idx], data_y[train_idx])\n",
    "    train_dataloader = torch.utils.data.DataLoader(train, batch_size=32)\n",
    "    val = Data(data_x[val_idx], data_y[val_idx])\n",
    "    val_dataloader = torch.utils.data.DataLoader(val, batch_size=32)\n",
    "    \n",
    "    total_loss_train = 0\n",
    "    total_acc_train = 0\n",
    "    for x, y in tqdm(train_dataloader):\n",
    "        x = x.to(device)\n",
    "        y = y.to(device)\n",
    "\n",
    "        output = model(x.float())\n",
    "\n",
    "        batch_loss = criterion(output, y)\n",
    "        total_loss_train += batch_loss\n",
    "\n",
    "        acc = (output.argmax(dim=1) == y).sum().item()\n",
    "        total_acc_train += acc\n",
    "\n",
    "        optimizer.zero_grad()\n",
    "        batch_loss.backward()\n",
    "        optimizer.step()\n",
    "\n",
    "    total_loss_val = 0\n",
    "    total_acc_val = 0\n",
    "    with torch.no_grad():  # Not training\n",
    "        for x, y in tqdm(val_dataloader):\n",
    "            x = x.to(device)\n",
    "            y = y.to(device)\n",
    "\n",
    "            output = model(x.float())\n",
    "\n",
    "            batch_loss = criterion(output, y)\n",
    "            total_loss_val += batch_loss.item()\n",
    "\n",
    "            acc = (output.argmax(dim=1) == y).sum().item()\n",
    "            total_acc_val += acc\n",
    "    print(\n",
    "        f'''Epochs: {fold+1} \n",
    "        | Train Loss: {total_loss_train / len(train):.3f}\n",
    "        | Train Accuracy: {total_acc_train/len(train):.3f}\n",
    "        | Val Loss: {total_loss_val/len(val):.3f}\n",
    "        | Val Accuracy: {total_acc_val/len(val):.3f}\n",
    "        | Train idx: {train_idx}\n",
    "        | Val idx: {val_idx}'''\n",
    "    )\n",
    "    if min_val_loss > total_loss_val/len(val):\n",
    "        min_val_loss = total_loss_val/len(val)\n",
    "        torch.save(model.state_dict(), \"simplemodel.pt\")\n",
    "        print(f\"Save model because val loss improve loss {min_val_loss:.3f}\")\n"
   ]
  },
  {
   "cell_type": "markdown",
   "metadata": {},
   "source": [
    "# 5. Tests"
   ]
  },
  {
   "cell_type": "code",
   "execution_count": 20,
   "metadata": {},
   "outputs": [
    {
     "data": {
      "image/png": "[encoded data removed]",
      "text/plain": [
       "<Figure size 648x648 with 9 Axes>"
      ]
     },
     "metadata": {
      "needs_background": "light"
     },
     "output_type": "display_data"
    }
   ],
   "source": [
    "model = SimpleModel()\n",
    "model = model.to(device)\n",
    "model.load_state_dict(torch.load(\"simplemodel.pt\"))\n",
    "\n",
    "test_x = torch.tensor(test_x).to(device)\n",
    "test_y = torch.tensor(test_y).to(device)\n",
    "(model(test_x.float()).argmax(dim=1)==test_y).sum().item()/test_y.shape[0]\n",
    "\n",
    "fig, axs = plt.subplots(3, 3, figsize=(9,9))\n",
    "for i in range(9):\n",
    "  row = i//3\n",
    "  column = i%3\n",
    "  axs[row][column].imshow(test_x[i].cpu(), cmap=\"gray\")\n",
    "  axs[row][column].set_title(model(test_x[i:i+1].float()).argmax(dim=1)[0].item())\n",
    "plt.show()"
   ]
  }
 ],
 "metadata": {
  "kernelspec": {
   "display_name": "Python 3.10.5 ('venv': venv)",
   "language": "python",
   "name": "python3"
  },
  "language_info": {
   "codemirror_mode": {
    "name": "ipython",
    "version": 3
   },
   "file_extension": ".py",
   "mimetype": "text/x-python",
   "name": "python",
   "nbconvert_exporter": "python",
   "pygments_lexer": "ipython3",
   "version": "3.10.5"
  },
  "orig_nbformat": 4,
  "vscode": {
   "interpreter": {
    "hash": "7a055d977bab38ea5cc5940a28e6107597afe98877ddcd52eec65491b9bf469c"
   }
  }
 },
 "nbformat": 4,
 "nbformat_minor": 2
}
