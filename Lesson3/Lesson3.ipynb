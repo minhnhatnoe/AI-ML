{
 "cells": [
  {
   "cell_type": "markdown",
   "metadata": {},
   "source": [
    "# 1. Data"
   ]
  },
  {
   "cell_type": "code",
   "execution_count": 1,
   "metadata": {},
   "outputs": [],
   "source": [
    "from keras.datasets import mnist"
   ]
  },
  {
   "cell_type": "code",
   "execution_count": 2,
   "metadata": {},
   "outputs": [],
   "source": [
    "(train_x, train_y) , (test_x, test_y) = mnist.load_data()"
   ]
  },
  {
   "cell_type": "code",
   "execution_count": 3,
   "metadata": {},
   "outputs": [
    {
     "data": {
      "text/plain": [
       "(60000, 28, 28)"
      ]
     },
     "execution_count": 3,
     "metadata": {},
     "output_type": "execute_result"
    }
   ],
   "source": [
    "train_x.shape"
   ]
  },
  {
   "cell_type": "code",
   "execution_count": 4,
   "metadata": {},
   "outputs": [],
   "source": [
    "from matplotlib import pyplot as plt"
   ]
  },
  {
   "cell_type": "code",
   "execution_count": 5,
   "metadata": {},
   "outputs": [
    {
     "data": {
      "image/png": "[encoded data removed]",
      "text/plain": [
       "<Figure size 648x648 with 9 Axes>"
      ]
     },
     "metadata": {
      "needs_background": "light"
     },
     "output_type": "display_data"
    }
   ],
   "source": [
    "fig, axs = plt.subplots(3, 3, figsize=(9,9))\n",
    "for i in range(9):\n",
    "    row = i//3\n",
    "    column = i%3\n",
    "    axs[row][column].imshow(train_x[i], cmap=\"gray\")\n",
    "    axs[row][column].set_title(train_y[i])\n",
    "plt.show()"
   ]
  },
  {
   "cell_type": "markdown",
   "metadata": {},
   "source": [
    "# 2. Preprocess data"
   ]
  },
  {
   "cell_type": "code",
   "execution_count": 6,
   "metadata": {},
   "outputs": [],
   "source": [
    "# Adds a new dimension. This is the depth of image\n",
    "import numpy as np\n",
    "train_x = np.expand_dims(train_x, axis=1)\n",
    "test_x = np.expand_dims(test_x, axis=1)"
   ]
  },
  {
   "cell_type": "code",
   "execution_count": 7,
   "metadata": {},
   "outputs": [],
   "source": [
    "train_x = train_x/255.0\n",
    "test_x = test_x/255.0"
   ]
  },
  {
   "cell_type": "code",
   "execution_count": 8,
   "metadata": {},
   "outputs": [],
   "source": [
    "from sklearn.model_selection import train_test_split"
   ]
  },
  {
   "cell_type": "code",
   "execution_count": 9,
   "metadata": {},
   "outputs": [],
   "source": [
    "# Split the dataset. Random_state is seed\n",
    "train_x, val_x, train_y, val_y = train_test_split(train_x, train_y, test_size=0.2, random_state=42)"
   ]
  },
  {
   "cell_type": "code",
   "execution_count": 10,
   "metadata": {},
   "outputs": [],
   "source": [
    "import torch"
   ]
  },
  {
   "cell_type": "code",
   "execution_count": 11,
   "metadata": {},
   "outputs": [],
   "source": [
    "class Data(torch.utils.data.Dataset):\n",
    "    def __init__(self, data, label):\n",
    "        self.x = data\n",
    "        self.y = label\n",
    "\n",
    "    def __len__(self):\n",
    "        return self.y.shape[0]\n",
    "\n",
    "    def __getitem__(self, idx):\n",
    "        return self.x[idx], self.y[idx]"
   ]
  },
  {
   "cell_type": "code",
   "execution_count": 12,
   "metadata": {},
   "outputs": [],
   "source": [
    "train, val = Data(train_x, train_y), Data(val_x, val_y)"
   ]
  },
  {
   "cell_type": "code",
   "execution_count": 13,
   "metadata": {},
   "outputs": [],
   "source": [
    "train_dataloader = torch.utils.data.DataLoader(train, batch_size=32)\n",
    "val_dataloader = torch.utils.data.DataLoader(val, batch_size=32)"
   ]
  },
  {
   "cell_type": "markdown",
   "metadata": {},
   "source": [
    "# 3. Build model"
   ]
  },
  {
   "cell_type": "code",
   "execution_count": 14,
   "metadata": {},
   "outputs": [],
   "source": [
    "from torch import nn\n",
    "\n",
    "\n",
    "class SimpleModel(nn.Module):\n",
    "    def __init__(self):\n",
    "        super(SimpleModel, self).__init__()\n",
    "        self.linear1 = nn.Linear(28*28, 32)\n",
    "        # 10 is out_feature, corresponds to digits 0->9\n",
    "        # 28 is size of dataset\n",
    "        self.relu = nn.ReLU()\n",
    "        self.linear2 = nn.Linear(32, 10)\n",
    "\n",
    "    def forward(self, x):\n",
    "        x = torch.flatten(x, 1)  # Stretch array of 28*28 to 1*724\n",
    "        x = self.linear1(x)\n",
    "        x = self.relu(x)\n",
    "        x = self.linear2(x)\n",
    "        return x\n"
   ]
  },
  {
   "cell_type": "code",
   "execution_count": 15,
   "metadata": {},
   "outputs": [],
   "source": [
    "# New model of lesson 3\n",
    "class SimpleCNN(nn.Module):\n",
    "    def __init__(self):\n",
    "        super(SimpleCNN, self).__init__()\n",
    "        # Kernel_size: size of filter block\n",
    "        # Stride: The distance between position of the filter\n",
    "        # Padding: Non-sense at border, so that all data is preserved \n",
    "        # (in case there is remainder when dividing by kernel_size or something)\n",
    "\n",
    "        # 28x28x1 -> 26x26x32\n",
    "        self.conv1 = nn.Conv2d(in_channels=1, out_channels=32, kernel_size=3)\n",
    "        self.maxpool1 = nn.MaxPool2d(kernel_size=2, stride=2)\n",
    "        # 13x13x32 -> 13x13x64\n",
    "        self.conv2 = nn.Conv2d(in_channels=32, out_channels=64, kernel_size=3, padding=\"same\")\n",
    "        self.avgpool = nn.AvgPool2d(kernel_size=2, stride=2)\n",
    "        # 6x6x64\n",
    "        self.linear1 = nn.Linear(6*6*64, 32)\n",
    "        self.relu = nn.ReLU()\n",
    "        self.linear2 = nn.Linear(32, 10)\n",
    "    \n",
    "    def forward(self, x):\n",
    "        # Go through all layers\n",
    "        x = self.conv1(x)\n",
    "        x = self.maxpool1(x)\n",
    "        x = self.conv2(x)\n",
    "        x = self.avgpool(x)\n",
    "        x = torch.flatten(x, 1)\n",
    "        x = self.linear1(x)\n",
    "        x = self.relu(x)\n",
    "        x = self.linear2(x)\n",
    "        return x"
   ]
  },
  {
   "cell_type": "markdown",
   "metadata": {},
   "source": [
    "# 4. Train"
   ]
  },
  {
   "cell_type": "code",
   "execution_count": 16,
   "metadata": {},
   "outputs": [],
   "source": [
    "model = SimpleCNN()\n",
    "\n",
    "use_cuda = torch.cuda.is_available()\n",
    "device = torch.device(\"cuda\" if use_cuda else \"cpu\")\n",
    "\n",
    "criterion = nn.CrossEntropyLoss()\n",
    "optimizer = torch.optim.Adam(model.parameters())\n",
    "\n",
    "model = model.to(device)\n",
    "criterion = criterion.to(device)\n"
   ]
  },
  {
   "cell_type": "code",
   "execution_count": 17,
   "metadata": {},
   "outputs": [
    {
     "name": "stderr",
     "output_type": "stream",
     "text": [
      "100%|██████████| 1500/1500 [00:07<00:00, 207.70it/s]\n",
      "100%|██████████| 375/375 [00:00<00:00, 722.55it/s]\n"
     ]
    },
    {
     "name": "stdout",
     "output_type": "stream",
     "text": [
      "Epochs: 1 \n",
      "        | Train Loss: 0.009\n",
      "        | Train Accuracy: 0.913\n",
      "        | Val Loss: 0.005\n",
      "        | Val Accuracy: 0.957\n",
      "Save model because val loss improve loss 0.005\n"
     ]
    },
    {
     "name": "stderr",
     "output_type": "stream",
     "text": [
      "100%|██████████| 1500/1500 [00:04<00:00, 320.31it/s]\n",
      "100%|██████████| 375/375 [00:00<00:00, 731.00it/s]\n"
     ]
    },
    {
     "name": "stdout",
     "output_type": "stream",
     "text": [
      "Epochs: 2 \n",
      "        | Train Loss: 0.003\n",
      "        | Train Accuracy: 0.966\n",
      "        | Val Loss: 0.003\n",
      "        | Val Accuracy: 0.973\n",
      "Save model because val loss improve loss 0.003\n"
     ]
    },
    {
     "name": "stderr",
     "output_type": "stream",
     "text": [
      "100%|██████████| 1500/1500 [00:04<00:00, 319.35it/s]\n",
      "100%|██████████| 375/375 [00:00<00:00, 718.39it/s]\n"
     ]
    },
    {
     "name": "stdout",
     "output_type": "stream",
     "text": [
      "Epochs: 3 \n",
      "        | Train Loss: 0.002\n",
      "        | Train Accuracy: 0.977\n",
      "        | Val Loss: 0.002\n",
      "        | Val Accuracy: 0.979\n",
      "Save model because val loss improve loss 0.002\n"
     ]
    },
    {
     "name": "stderr",
     "output_type": "stream",
     "text": [
      "100%|██████████| 1500/1500 [00:04<00:00, 318.34it/s]\n",
      "100%|██████████| 375/375 [00:00<00:00, 721.15it/s]\n"
     ]
    },
    {
     "name": "stdout",
     "output_type": "stream",
     "text": [
      "Epochs: 4 \n",
      "        | Train Loss: 0.002\n",
      "        | Train Accuracy: 0.982\n",
      "        | Val Loss: 0.002\n",
      "        | Val Accuracy: 0.983\n",
      "Save model because val loss improve loss 0.002\n"
     ]
    },
    {
     "name": "stderr",
     "output_type": "stream",
     "text": [
      "100%|██████████| 1500/1500 [00:04<00:00, 319.15it/s]\n",
      "100%|██████████| 375/375 [00:00<00:00, 735.29it/s]\n"
     ]
    },
    {
     "name": "stdout",
     "output_type": "stream",
     "text": [
      "Epochs: 5 \n",
      "        | Train Loss: 0.002\n",
      "        | Train Accuracy: 0.984\n",
      "        | Val Loss: 0.002\n",
      "        | Val Accuracy: 0.983\n",
      "Save model because val loss improve loss 0.002\n"
     ]
    },
    {
     "name": "stderr",
     "output_type": "stream",
     "text": [
      "100%|██████████| 1500/1500 [00:04<00:00, 319.01it/s]\n",
      "100%|██████████| 375/375 [00:00<00:00, 718.39it/s]\n"
     ]
    },
    {
     "name": "stdout",
     "output_type": "stream",
     "text": [
      "Epochs: 6 \n",
      "        | Train Loss: 0.001\n",
      "        | Train Accuracy: 0.988\n",
      "        | Val Loss: 0.002\n",
      "        | Val Accuracy: 0.984\n",
      "Save model because val loss improve loss 0.002\n"
     ]
    },
    {
     "name": "stderr",
     "output_type": "stream",
     "text": [
      "100%|██████████| 1500/1500 [00:04<00:00, 314.73it/s]\n",
      "100%|██████████| 375/375 [00:00<00:00, 710.23it/s]\n"
     ]
    },
    {
     "name": "stdout",
     "output_type": "stream",
     "text": [
      "Epochs: 7 \n",
      "        | Train Loss: 0.001\n",
      "        | Train Accuracy: 0.988\n",
      "        | Val Loss: 0.002\n",
      "        | Val Accuracy: 0.984\n"
     ]
    },
    {
     "name": "stderr",
     "output_type": "stream",
     "text": [
      "100%|██████████| 1500/1500 [00:04<00:00, 308.52it/s]\n",
      "100%|██████████| 375/375 [00:00<00:00, 700.93it/s]\n"
     ]
    },
    {
     "name": "stdout",
     "output_type": "stream",
     "text": [
      "Epochs: 8 \n",
      "        | Train Loss: 0.001\n",
      "        | Train Accuracy: 0.990\n",
      "        | Val Loss: 0.002\n",
      "        | Val Accuracy: 0.983\n"
     ]
    },
    {
     "name": "stderr",
     "output_type": "stream",
     "text": [
      "100%|██████████| 1500/1500 [00:04<00:00, 312.24it/s]\n",
      "100%|██████████| 375/375 [00:00<00:00, 695.73it/s]\n"
     ]
    },
    {
     "name": "stdout",
     "output_type": "stream",
     "text": [
      "Epochs: 9 \n",
      "        | Train Loss: 0.001\n",
      "        | Train Accuracy: 0.991\n",
      "        | Val Loss: 0.002\n",
      "        | Val Accuracy: 0.985\n"
     ]
    },
    {
     "name": "stderr",
     "output_type": "stream",
     "text": [
      "100%|██████████| 1500/1500 [00:04<00:00, 319.62it/s]\n",
      "100%|██████████| 375/375 [00:00<00:00, 690.61it/s]"
     ]
    },
    {
     "name": "stdout",
     "output_type": "stream",
     "text": [
      "Epochs: 10 \n",
      "        | Train Loss: 0.001\n",
      "        | Train Accuracy: 0.991\n",
      "        | Val Loss: 0.002\n",
      "        | Val Accuracy: 0.982\n"
     ]
    },
    {
     "name": "stderr",
     "output_type": "stream",
     "text": [
      "\n"
     ]
    }
   ],
   "source": [
    "from tqdm import tqdm\n",
    "min_val_loss = 100000000000\n",
    "for epoch in range(10):\n",
    "    total_loss_train = 0\n",
    "    total_acc_train = 0\n",
    "    for x, y in tqdm(train_dataloader):\n",
    "        x = x.to(device)\n",
    "        y = y.to(device)\n",
    "\n",
    "        # Delete extra dimensions\n",
    "        y = y.squeeze()\n",
    "\n",
    "        output = model(x.float())\n",
    "\n",
    "        batch_loss = criterion(output, y)\n",
    "        total_loss_train += batch_loss\n",
    "\n",
    "        acc = (output.argmax(dim=1) == y).sum().item()\n",
    "        total_acc_train += acc\n",
    "\n",
    "        optimizer.zero_grad()\n",
    "        batch_loss.backward()\n",
    "        optimizer.step()\n",
    "\n",
    "    total_loss_val = 0\n",
    "    total_acc_val = 0\n",
    "    with torch.no_grad():  # Not training\n",
    "        for x, y in tqdm(val_dataloader):\n",
    "            x = x.to(device)\n",
    "            y = y.to(device)\n",
    "\n",
    "            # Delete extra dimensions\n",
    "            y = y.squeeze()\n",
    "\n",
    "            output = model(x.float())\n",
    "\n",
    "            batch_loss = criterion(output, y)\n",
    "            total_loss_val += batch_loss.item()\n",
    "\n",
    "            acc = (output.argmax(dim=1) == y).sum().item()\n",
    "            total_acc_val += acc\n",
    "    print(\n",
    "        f'''Epochs: {epoch+1} \n",
    "        | Train Loss: {total_loss_train / len(train):.3f}\n",
    "        | Train Accuracy: {total_acc_train/len(train):.3f}\n",
    "        | Val Loss: {total_loss_val/len(val):.3f}\n",
    "        | Val Accuracy: {total_acc_val/len(val):.3f}'''\n",
    "    )\n",
    "    if min_val_loss > total_loss_val/len(val):\n",
    "        min_val_loss = total_loss_val/len(val)\n",
    "        torch.save(model.state_dict(), \"simplecnn.pt\")\n",
    "        print(f\"Save model because val loss improve loss {min_val_loss:.3f}\")\n"
   ]
  },
  {
   "cell_type": "markdown",
   "metadata": {},
   "source": [
    "# 5. Tests"
   ]
  },
  {
   "cell_type": "code",
   "execution_count": 18,
   "metadata": {},
   "outputs": [
    {
     "data": {
      "image/png": "[encoded data removed]",
      "text/plain": [
       "<Figure size 648x648 with 9 Axes>"
      ]
     },
     "metadata": {
      "needs_background": "light"
     },
     "output_type": "display_data"
    }
   ],
   "source": [
    "model = SimpleCNN()\n",
    "model = model.to(device)\n",
    "model.load_state_dict(torch.load(\"simplecnn.pt\"))\n",
    "\n",
    "test_x =torch.tensor(test_x).to(device)\n",
    "test_y = torch.tensor(test_y).to(device)\n",
    "\n",
    "(model(test_x.float()).argmax(dim=1)==test_y).sum().item()/test_y.shape[0]\n",
    "\n",
    "fig, axs = plt.subplots(3, 3, figsize=(9,9))\n",
    "for i in range(9):\n",
    "  row = i//3\n",
    "  column = i%3\n",
    "  \n",
    "  axs[row][column].imshow(test_x[i].squeeze().cpu(), cmap=\"gray\")\n",
    "  axs[row][column].set_title(model(test_x[i:i+1].float()).argmax(dim=1)[0].item())\n",
    "plt.show()"
   ]
  }
 ],
 "metadata": {
  "kernelspec": {
   "display_name": "Python 3.10.5 ('venv': venv)",
   "language": "python",
   "name": "python3"
  },
  "language_info": {
   "codemirror_mode": {
    "name": "ipython",
    "version": 3
   },
   "file_extension": ".py",
   "mimetype": "text/x-python",
   "name": "python",
   "nbconvert_exporter": "python",
   "pygments_lexer": "ipython3",
   "version": "3.10.5"
  },
  "orig_nbformat": 4,
  "vscode": {
   "interpreter": {
    "hash": "7a055d977bab38ea5cc5940a28e6107597afe98877ddcd52eec65491b9bf469c"
   }
  }
 },
 "nbformat": 4,
 "nbformat_minor": 2
}
