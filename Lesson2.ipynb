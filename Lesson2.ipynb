{
 "cells": [
  {
   "cell_type": "markdown",
   "metadata": {},
   "source": [
    "# 1. Data"
   ]
  },
  {
   "cell_type": "code",
   "execution_count": 1,
   "metadata": {},
   "outputs": [],
   "source": [
    "from keras.datasets import mnist"
   ]
  },
  {
   "cell_type": "code",
   "execution_count": 2,
   "metadata": {},
   "outputs": [],
   "source": [
    "(train_x, train_y) , (test_x, test_y) = mnist.load_data()"
   ]
  },
  {
   "cell_type": "code",
   "execution_count": 3,
   "metadata": {},
   "outputs": [
    {
     "data": {
      "text/plain": [
       "(28, 28)"
      ]
     },
     "execution_count": 3,
     "metadata": {},
     "output_type": "execute_result"
    }
   ],
   "source": [
    "train_x[0].shape"
   ]
  },
  {
   "cell_type": "code",
   "execution_count": 4,
   "metadata": {},
   "outputs": [],
   "source": [
    "from matplotlib import pyplot as plt"
   ]
  },
  {
   "cell_type": "code",
   "execution_count": 5,
   "metadata": {},
   "outputs": [
    {
     "data": {
      "image/png": "[encoded data removed]",
      "text/plain": [
       "<Figure size 648x648 with 9 Axes>"
      ]
     },
     "metadata": {
      "needs_background": "light"
     },
     "output_type": "display_data"
    }
   ],
   "source": [
    "fig, axs = plt.subplots(3, 3, figsize=(9,9))\n",
    "for i in range(9):\n",
    "    row = i//3\n",
    "    column = i%3\n",
    "    axs[row][column].imshow(train_x[i], cmap=\"gray\")\n",
    "    axs[row][column].set_title(train_y[i])\n",
    "plt.show()"
   ]
  },
  {
   "cell_type": "markdown",
   "metadata": {},
   "source": [
    "# 2. Preprocess data"
   ]
  },
  {
   "cell_type": "code",
   "execution_count": 6,
   "metadata": {},
   "outputs": [],
   "source": [
    "train_x = train_x/255.0\n",
    "test_x = test_x/255.0"
   ]
  },
  {
   "cell_type": "code",
   "execution_count": 7,
   "metadata": {},
   "outputs": [],
   "source": [
    "from sklearn.model_selection import train_test_split"
   ]
  },
  {
   "cell_type": "code",
   "execution_count": 8,
   "metadata": {},
   "outputs": [],
   "source": [
    "# Split the dataset. Random_state is seed\n",
    "train_x, val_x, train_y, val_y = train_test_split(train_x, train_y, test_size=0.2, random_state=42)"
   ]
  },
  {
   "cell_type": "code",
   "execution_count": 9,
   "metadata": {},
   "outputs": [],
   "source": [
    "import torch"
   ]
  },
  {
   "cell_type": "code",
   "execution_count": 10,
   "metadata": {},
   "outputs": [],
   "source": [
    "class Data(torch.utils.data.Dataset):\n",
    "    def __init__(self, data, label):\n",
    "        self.x = data\n",
    "        self.y = label\n",
    "\n",
    "    def __len__(self):\n",
    "        return self.y.shape[0]\n",
    "\n",
    "    def __getitem__(self, idx):\n",
    "        return self.x[idx], self.y[idx]"
   ]
  },
  {
   "cell_type": "code",
   "execution_count": 11,
   "metadata": {},
   "outputs": [],
   "source": [
    "train, val = Data(train_x, train_y), Data(val_x, val_y)"
   ]
  },
  {
   "cell_type": "code",
   "execution_count": 12,
   "metadata": {},
   "outputs": [],
   "source": [
    "train_dataloader = torch.utils.data.DataLoader(train, batch_size=32)\n",
    "val_dataloader = torch.utils.data.DataLoader(val, batch_size=32)"
   ]
  },
  {
   "cell_type": "markdown",
   "metadata": {},
   "source": [
    "# 3. Build model"
   ]
  },
  {
   "cell_type": "code",
   "execution_count": 13,
   "metadata": {},
   "outputs": [],
   "source": [
    "from torch import nn\n",
    "\n",
    "\n",
    "class SimpleModel(nn.Module):\n",
    "    def __init__(self):\n",
    "        super(SimpleModel, self).__init__()\n",
    "        self.linear1 = nn.Linear(28*28, 32)\n",
    "        # 10 is out_feature, corresponds to digits 0->9\n",
    "        # 28 is size of dataset\n",
    "        self.relu = nn.ReLU()\n",
    "        self.linear2 = nn.Linear(32, 10)\n",
    "\n",
    "    def forward(self, x):\n",
    "        x = torch.flatten(x, 1)  # Stretch array of 28*28 to 1*724\n",
    "        x = self.linear1(x)\n",
    "        x = self.relu(x)\n",
    "        x = self.linear2(x)\n",
    "        return x\n"
   ]
  },
  {
   "cell_type": "markdown",
   "metadata": {},
   "source": [
    "# 4. Train"
   ]
  },
  {
   "cell_type": "code",
   "execution_count": 14,
   "metadata": {},
   "outputs": [],
   "source": [
    "model = SimpleModel()\n",
    "\n",
    "use_cuda = torch.cuda.is_available()\n",
    "device = torch.device(\"cuda\" if use_cuda else \"cpu\")\n",
    "\n",
    "criterion = nn.CrossEntropyLoss()\n",
    "optimizer = torch.optim.Adam(model.parameters())\n",
    "\n",
    "model = model.to(device)\n",
    "criterion = criterion.to(device)\n"
   ]
  },
  {
   "cell_type": "code",
   "execution_count": 15,
   "metadata": {},
   "outputs": [
    {
     "name": "stderr",
     "output_type": "stream",
     "text": [
      "100%|██████████| 1688/1688 [00:04<00:00, 385.08it/s]\n",
      "100%|██████████| 188/188 [00:00<00:00, 1278.92it/s]\n"
     ]
    },
    {
     "name": "stdout",
     "output_type": "stream",
     "text": [
      "Epochs: 1 | Train Loss: 0.013        | Train Accuracy: 0.889        | Val Loss: 0.008        | Val Accuracy:0.927\n",
      "Save model because val loss improve loss 0.008\n"
     ]
    },
    {
     "name": "stderr",
     "output_type": "stream",
     "text": [
      "100%|██████████| 1688/1688 [00:03<00:00, 555.52it/s]\n",
      "100%|██████████| 188/188 [00:00<00:00, 1032.79it/s]\n"
     ]
    },
    {
     "name": "stdout",
     "output_type": "stream",
     "text": [
      "Epochs: 2 | Train Loss: 0.007        | Train Accuracy: 0.934        | Val Loss: 0.006        | Val Accuracy:0.943\n",
      "Save model because val loss improve loss 0.006\n"
     ]
    },
    {
     "name": "stderr",
     "output_type": "stream",
     "text": [
      "100%|██████████| 1688/1688 [00:03<00:00, 506.05it/s]\n",
      "100%|██████████| 188/188 [00:00<00:00, 1125.66it/s]\n"
     ]
    },
    {
     "name": "stdout",
     "output_type": "stream",
     "text": [
      "Epochs: 3 | Train Loss: 0.005        | Train Accuracy: 0.949        | Val Loss: 0.005        | Val Accuracy:0.951\n",
      "Save model because val loss improve loss 0.005\n"
     ]
    },
    {
     "name": "stderr",
     "output_type": "stream",
     "text": [
      "100%|██████████| 1688/1688 [00:03<00:00, 498.49it/s]\n",
      "100%|██████████| 188/188 [00:00<00:00, 984.28it/s] \n"
     ]
    },
    {
     "name": "stdout",
     "output_type": "stream",
     "text": [
      "Epochs: 4 | Train Loss: 0.004        | Train Accuracy: 0.958        | Val Loss: 0.005        | Val Accuracy:0.958\n",
      "Save model because val loss improve loss 0.005\n"
     ]
    },
    {
     "name": "stderr",
     "output_type": "stream",
     "text": [
      "100%|██████████| 1688/1688 [00:03<00:00, 515.42it/s]\n",
      "100%|██████████| 188/188 [00:00<00:00, 1068.18it/s]\n"
     ]
    },
    {
     "name": "stdout",
     "output_type": "stream",
     "text": [
      "Epochs: 5 | Train Loss: 0.004        | Train Accuracy: 0.964        | Val Loss: 0.004        | Val Accuracy:0.961\n",
      "Save model because val loss improve loss 0.004\n"
     ]
    },
    {
     "name": "stderr",
     "output_type": "stream",
     "text": [
      "100%|██████████| 1688/1688 [00:03<00:00, 528.61it/s]\n",
      "100%|██████████| 188/188 [00:00<00:00, 1068.21it/s]\n"
     ]
    },
    {
     "name": "stdout",
     "output_type": "stream",
     "text": [
      "Epochs: 6 | Train Loss: 0.003        | Train Accuracy: 0.968        | Val Loss: 0.004        | Val Accuracy:0.962\n",
      "Save model because val loss improve loss 0.004\n"
     ]
    },
    {
     "name": "stderr",
     "output_type": "stream",
     "text": [
      "100%|██████████| 1688/1688 [00:03<00:00, 514.22it/s]\n",
      "100%|██████████| 188/188 [00:00<00:00, 780.19it/s]\n"
     ]
    },
    {
     "name": "stdout",
     "output_type": "stream",
     "text": [
      "Epochs: 7 | Train Loss: 0.003        | Train Accuracy: 0.971        | Val Loss: 0.004        | Val Accuracy:0.965\n",
      "Save model because val loss improve loss 0.004\n"
     ]
    },
    {
     "name": "stderr",
     "output_type": "stream",
     "text": [
      "100%|██████████| 1688/1688 [00:03<00:00, 518.43it/s]\n",
      "100%|██████████| 188/188 [00:00<00:00, 1056.03it/s]\n"
     ]
    },
    {
     "name": "stdout",
     "output_type": "stream",
     "text": [
      "Epochs: 8 | Train Loss: 0.003        | Train Accuracy: 0.973        | Val Loss: 0.004        | Val Accuracy:0.966\n",
      "Save model because val loss improve loss 0.004\n"
     ]
    },
    {
     "name": "stderr",
     "output_type": "stream",
     "text": [
      "100%|██████████| 1688/1688 [00:03<00:00, 527.35it/s]\n",
      "100%|██████████| 188/188 [00:00<00:00, 1038.52it/s]\n"
     ]
    },
    {
     "name": "stdout",
     "output_type": "stream",
     "text": [
      "Epochs: 9 | Train Loss: 0.003        | Train Accuracy: 0.975        | Val Loss: 0.004        | Val Accuracy:0.967\n",
      "Save model because val loss improve loss 0.004\n"
     ]
    },
    {
     "name": "stderr",
     "output_type": "stream",
     "text": [
      "100%|██████████| 1688/1688 [00:03<00:00, 507.57it/s]\n",
      "100%|██████████| 188/188 [00:00<00:00, 1062.38it/s]"
     ]
    },
    {
     "name": "stdout",
     "output_type": "stream",
     "text": [
      "Epochs: 10 | Train Loss: 0.002        | Train Accuracy: 0.977        | Val Loss: 0.004        | Val Accuracy:0.966\n",
      "Save model because val loss improve loss 0.004\n"
     ]
    },
    {
     "name": "stderr",
     "output_type": "stream",
     "text": [
      "\n"
     ]
    }
   ],
   "source": [
    "from tqdm import tqdm\n",
    "min_val_loss = 100000000000\n",
    "for epoch in range(10):\n",
    "    total_loss_train = 0\n",
    "    total_acc_train = 0\n",
    "    for x, y in tqdm(train_dataloader):\n",
    "        x = x.to(device)\n",
    "        y = y.to(device)\n",
    "\n",
    "        output = model(x.float())\n",
    "\n",
    "        batch_loss = criterion(output, y)\n",
    "        total_loss_train += batch_loss\n",
    "\n",
    "        acc = (output.argmax(dim=1) == y).sum().item()\n",
    "        total_acc_train += acc\n",
    "\n",
    "        optimizer.zero_grad()\n",
    "        batch_loss.backward()\n",
    "        optimizer.step()\n",
    "\n",
    "    total_loss_val = 0\n",
    "    total_acc_val = 0\n",
    "    with torch.no_grad():  # Not training\n",
    "        for x, y in tqdm(val_dataloader):\n",
    "            x = x.to(device)\n",
    "            y = y.to(device)\n",
    "\n",
    "            output = model(x.float())\n",
    "\n",
    "            batch_loss = criterion(output, y)\n",
    "            total_loss_val += batch_loss.item()\n",
    "\n",
    "            acc = (output.argmax(dim=1) == y).sum().item()\n",
    "            total_acc_val += acc\n",
    "    print(\n",
    "        f'Epochs: {epoch+1} | Train Loss: {total_loss_train / len(train):.3f}\\\n",
    "        | Train Accuracy: {total_acc_train/len(train):.3f}\\\n",
    "        | Val Loss: {total_loss_val/len(val):.3f}\\\n",
    "        | Val Accuracy:{total_acc_val/len(val):.3f}'\n",
    "    )\n",
    "    if min_val_loss > total_loss_val/len(val):\n",
    "        min_val_loss = total_loss_val/len(val)\n",
    "        torch.save(model.state_dict(), \"simplemodel.pt\")\n",
    "        print(f\"Save model because val loss improve loss {min_val_loss:.3f}\")\n"
   ]
  }
 ],
 "metadata": {
  "kernelspec": {
   "display_name": "Python 3.10.5 ('venv': venv)",
   "language": "python",
   "name": "python3"
  },
  "language_info": {
   "codemirror_mode": {
    "name": "ipython",
    "version": 3
   },
   "file_extension": ".py",
   "mimetype": "text/x-python",
   "name": "python",
   "nbconvert_exporter": "python",
   "pygments_lexer": "ipython3",
   "version": "3.10.5"
  },
  "orig_nbformat": 4,
  "vscode": {
   "interpreter": {
    "hash": "7a055d977bab38ea5cc5940a28e6107597afe98877ddcd52eec65491b9bf469c"
   }
  }
 },
 "nbformat": 4,
 "nbformat_minor": 2
}
